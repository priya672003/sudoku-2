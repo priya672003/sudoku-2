{
 "cells": [
  {
   "cell_type": "code",
   "execution_count": 20,
   "id": "3e125012",
   "metadata": {},
   "outputs": [],
   "source": [
    "%matplotlib inline\n",
    "import matplotlib.pyplot as plt\n",
    "import random\n",
    "import math\n",
    "import sys\n",
    "import time\n",
    "rows = 'ABCDEFGHI'\n",
    "cols = '123456789'"
   ]
  },
  {
   "cell_type": "code",
   "execution_count": 21,
   "id": "0a822d75",
   "metadata": {},
   "outputs": [],
   "source": [
    "def cross(a,b):\n",
    "    return [i+j for i in a for j in b]\n",
    "boxes=cross(rows,cols)\n",
    "ru=[cross(r,cols) for r in rows]\n",
    "cu=[cross(rows,c) for c in cols]\n",
    "su=[cross(rs,cs) for rs in ('ABC','DEF','GHI') for cs in('123','456','789')]\n",
    "ul=ru+cu+su\n",
    "units = dict((s, [u for u in ul if s in u])  for s in boxes)\n",
    "peers = dict((s, set(sum(units[s],[]))-set([s]))for s in boxes)"
   ]
  },
  {
   "cell_type": "code",
   "execution_count": 22,
   "id": "817f4d2b",
   "metadata": {},
   "outputs": [],
   "source": [
    "def grid_values(grid):\n",
    "    assert len(grid) == 81, \"Input grid must be a string length of 81 (9x9)\"\n",
    "    boxes = cross(rows,cols)\n",
    "    return dict(zip(boxes,grid))"
   ]
  },
  {
   "cell_type": "code",
   "execution_count": 23,
   "id": "a964af2f",
   "metadata": {},
   "outputs": [],
   "source": [
    "def display(values):\n",
    "    width = 1+max(len(values[s]) for s in boxes)\n",
    "    line = '+'.join(['-'*(width*3)]*3)\n",
    "    for r in rows:\n",
    "        print(''.join(values[r+c].center (width)+('|' if c in '36' else '') for c in cols))\n",
    "        if r in 'CF': print(line)\n",
    "    return"
   ]
  },
  {
   "cell_type": "code",
   "execution_count": 24,
   "id": "241f51f7",
   "metadata": {},
   "outputs": [],
   "source": [
    "def grid_values_improved(grid):\n",
    "    values = []\n",
    "    all_digits = '123456789'\n",
    "    for c in grid:\n",
    "        if c == '.':\n",
    "            values.append(all_digits)\n",
    "        elif c in all_digits:\n",
    "                values.append(c)\n",
    "    assert len(values) == 81\n",
    "    boxes = cross(rows,cols)\n",
    "    return dict(zip(boxes,values))    "
   ]
  },
  {
   "cell_type": "code",
   "execution_count": 25,
   "id": "925819a6",
   "metadata": {},
   "outputs": [],
   "source": [
    "def elimination(values):\n",
    "    solved_values = [box for box in values.keys() if len(values[box])==1]\n",
    "    for box in solved_values:\n",
    "        digit = values[box]\n",
    "        for peer in peers[box]:\n",
    "            values[peer] = values[peer].replace(digit,'')\n",
    "    return values"
   ]
  },
  {
   "cell_type": "code",
   "execution_count": 26,
   "id": "c6f839af",
   "metadata": {},
   "outputs": [],
   "source": [
    "def only_choice(values):\n",
    "    for unit in ul:\n",
    "        for digit in '123456789':\n",
    "            dplaces = [box for box in unit if digit in values[box]]\n",
    "            if len(dplaces) == 1:\n",
    "                values[dplaces[0]] = digit\n",
    "    return values    "
   ]
  },
  {
   "cell_type": "code",
   "execution_count": 27,
   "id": "e3d90753",
   "metadata": {},
   "outputs": [],
   "source": [
    "def reduce_puzzle(values):\n",
    "    stalled =False\n",
    "    while not stalled:\n",
    "        solved_values_before = len([box for box in values.keys() if len(values[box])==1])\n",
    "        elimination(values)\n",
    "        only_choice(values)\n",
    "        solved_values_after = len([box for box in values.keys() if len(values[box])==1])\n",
    "        stalled = solved_values_after == solved_values_before\n",
    "        if len([box for box in values.keys() if len(values[box])==1])==0:\n",
    "            return False\n",
    "    return values    "
   ]
  },
  {
   "cell_type": "code",
   "execution_count": 28,
   "id": "772a6930",
   "metadata": {},
   "outputs": [],
   "source": [
    "def search(values):\n",
    "    values_reduced = reduce_puzzle(values)\n",
    "    if not values_reduced:\n",
    "        return False\n",
    "    else:\n",
    "        values=values_reduced\n",
    "    if len([box for box in values.keys() if len(values[box])==1])==81:\n",
    "        return values   \n",
    "    possibility_count_list = [(len(values[box]),box) for box in values.keys() if len(values[box])>1]    \n",
    "    possibility_count_list.sort()\n",
    "    for(_,t_box_min) in possibility_count_list:\n",
    "        for i_digit in values[t_box_min]:\n",
    "            new_values = values.copy()\n",
    "            new_values[t_box_min]=i_digit\n",
    "            new_values = search(new_values)\n",
    "            if new_values:\n",
    "                return new_values           \n",
    "    return values"
   ]
  },
  {
   "cell_type": "code",
   "execution_count": 29,
   "id": "cc6f6bf2",
   "metadata": {},
   "outputs": [],
   "source": [
    "def search(values):\n",
    "    values_reduced = reduce_puzzle(values)\n",
    "    if not values_reduced:\n",
    "        return False\n",
    "    else:\n",
    "        values=values_reduced\n",
    "    if len([box for box in values.keys() if len(values[box])==1])==81:\n",
    "        return values  \n",
    "    possibility_count_list = [(len(values[box]),box) for box in values.keys() if len(values[box])>1]\n",
    "    possibility_count_list.sort()\n",
    "    for(_,t_box_min) in possibility_count_list:\n",
    "        for i_digit in values[t_box_min]:\n",
    "            new_values = values.copy()\n",
    "            new_values[t_box_min]=i_digit\n",
    "            new_values = search(new_values)\n",
    "            if new_values:\n",
    "                return new_values\n",
    "            \n",
    "    return values"
   ]
  },
  {
   "cell_type": "code",
   "execution_count": 37,
   "id": "47601f1b",
   "metadata": {},
   "outputs": [],
   "source": [
    "p='...8.1.........43.5............7.8........1...2..3....6......75..34........2..6..'"
   ]
  },
  {
   "cell_type": "code",
   "execution_count": 38,
   "id": "d7be6a52",
   "metadata": {},
   "outputs": [
    {
     "name": "stdout",
     "output_type": "stream",
     "text": [
      ". . . |8 . 1 |. . . \n",
      ". . . |. . . |4 3 . \n",
      "5 . . |. . . |. . . \n",
      "------+------+------\n",
      ". . . |. 7 . |8 . . \n",
      ". . . |. . . |1 . . \n",
      ". 2 . |. 3 . |. . . \n",
      "------+------+------\n",
      "6 . . |. . . |. 7 5 \n",
      ". . 3 |4 . . |. . . \n",
      ". . . |2 . . |6 . . \n"
     ]
    }
   ],
   "source": [
    "start_time = time.time()\n",
    "display(grid_values(p))"
   ]
  },
  {
   "cell_type": "code",
   "execution_count": 39,
   "id": "3d2bc938",
   "metadata": {},
   "outputs": [
    {
     "name": "stdout",
     "output_type": "stream",
     "text": [
      "123456789 123456789 123456789 |    8     123456789     1     |123456789 123456789 123456789 \n",
      "123456789 123456789 123456789 |123456789 123456789 123456789 |    4         3     123456789 \n",
      "    5     123456789 123456789 |123456789 123456789 123456789 |123456789 123456789 123456789 \n",
      "------------------------------+------------------------------+------------------------------\n",
      "123456789 123456789 123456789 |123456789     7     123456789 |    8     123456789 123456789 \n",
      "123456789 123456789 123456789 |123456789 123456789 123456789 |    1     123456789 123456789 \n",
      "123456789     2     123456789 |123456789     3     123456789 |123456789 123456789 123456789 \n",
      "------------------------------+------------------------------+------------------------------\n",
      "    6     123456789 123456789 |123456789 123456789 123456789 |123456789     7         5     \n",
      "123456789 123456789     3     |    4     123456789 123456789 |123456789 123456789 123456789 \n",
      "123456789 123456789 123456789 |    2     123456789 123456789 |    6     123456789 123456789 \n"
     ]
    }
   ],
   "source": [
    "p1=grid_values_improved(p)\n",
    "display(p1)"
   ]
  },
  {
   "cell_type": "code",
   "execution_count": 40,
   "id": "5861ef4b",
   "metadata": {},
   "outputs": [
    {
     "name": "stdout",
     "output_type": "stream",
     "text": [
      "2 3 7 |8 4 1 |5 6 9 \n",
      "8 9 6 |7 2 5 |4 3 1 \n",
      "5 1 4 |3 9 6 |2 8 7 \n",
      "------+------+------\n",
      "3 6 1 |5 7 9 |8 4 2 \n",
      "4 7 5 |6 8 2 |1 9 3 \n",
      "9 2 8 |1 3 4 |7 5 6 \n",
      "------+------+------\n",
      "6 4 2 |9 1 8 |3 7 5 \n",
      "1 5 3 |4 6 7 |9 2 8 \n",
      "7 8 9 |2 5 3 |6 1 4 \n"
     ]
    }
   ],
   "source": [
    "result = search(p1)\n",
    "display(result)"
   ]
  },
  {
   "cell_type": "code",
   "execution_count": 41,
   "id": "c0170374",
   "metadata": {},
   "outputs": [
    {
     "name": "stdout",
     "output_type": "stream",
     "text": [
      "\n",
      "\n",
      "11.268808841705322 seconds\n"
     ]
    }
   ],
   "source": [
    "time_taken=time.time() - start_time\n",
    "print(\"\\n\\n{0} seconds\".format(time_taken))"
   ]
  },
  {
   "cell_type": "code",
   "execution_count": null,
   "id": "5c00b3e1",
   "metadata": {},
   "outputs": [],
   "source": []
  }
 ],
 "metadata": {
  "kernelspec": {
   "display_name": "Python 3 (ipykernel)",
   "language": "python",
   "name": "python3"
  },
  "language_info": {
   "codemirror_mode": {
    "name": "ipython",
    "version": 3
   },
   "file_extension": ".py",
   "mimetype": "text/x-python",
   "name": "python",
   "nbconvert_exporter": "python",
   "pygments_lexer": "ipython3",
   "version": "3.9.7"
  }
 },
 "nbformat": 4,
 "nbformat_minor": 5
}
